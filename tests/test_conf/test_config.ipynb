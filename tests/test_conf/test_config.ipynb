{
 "cells": [
  {
   "cell_type": "code",
   "execution_count": 3,
   "metadata": {},
   "outputs": [
    {
     "data": {
      "text/plain": [
       "# Terminal App\n",
       "- OS: darwin\n",
       "- CONFIG: development\n",
       "- RUN_MODE: jupyter\n",
       "+------------------+-------+-----------------------------------------------------------------------------------+\n",
       "| name             | env   | file                                                                              |\n",
       "|------------------+-------+-----------------------------------------------------------------------------------|\n",
       "| BASE_DIR         |       | /Users/21903294/Projects/StartUp/terminal_app/tests/test_conf                     |\n",
       "| WORK_DIR         |       | /Users/21903294/Projects/StartUp/terminal_app/tests/test_conf                     |\n",
       "| CONFIGS_DIR      |       | /Users/21903294/Projects/StartUp/terminal_app/tests/test_conf/configs             |\n",
       "| DEV_DIR          |       | /Users/21903294/Projects/StartUp/terminal_app/tests/test_conf/configs/development |\n",
       "| PROD_DIR         |       | /Users/21903294/Projects/StartUp/terminal_app/tests/test_conf/configs/production  |\n",
       "| TEST_DIR         |       | /Users/21903294/Projects/StartUp/terminal_app/tests/test_conf/configs/test        |\n",
       "| CERTIFICATES_DIR |       | /Users/21903294/Projects/StartUp/terminal_app/tests/test_conf/certificates        |\n",
       "| SSH_DIR          |       | /Users/21903294/Projects/StartUp/terminal_app/tests/test_conf/certificates/ssh    |\n",
       "| DATA_DIR         |       | /Users/21903294/Projects/StartUp/terminal_app/tests/test_conf/data                |\n",
       "| MEDIA_DIR        |       | /Users/21903294/Projects/StartUp/terminal_app/tests/test_conf/data/media          |\n",
       "| DOCUMENT_DIR     |       | /Users/21903294/Projects/StartUp/terminal_app/tests/test_conf/data/media/document |\n",
       "| VIDEO_DIR        |       | /Users/21903294/Projects/StartUp/terminal_app/tests/test_conf/data/media/video    |\n",
       "| PHOTO_DIR        |       | /Users/21903294/Projects/StartUp/terminal_app/tests/test_conf/data/media/photo    |\n",
       "| INIT_FOLDERS     |       | True                                                                              |\n",
       "+------------------+-------+-----------------------------------------------------------------------------------+\n",
       "# Terminal\n",
       "+--------+-------+--------+\n",
       "| name   | env   |   file |\n",
       "|--------+-------+--------|\n",
       "| ANY    |       |      1 |\n",
       "+--------+-------+--------+\n",
       "# Terminal Lol\n",
       "+--------+-------+--------+\n",
       "| name   | env   | file   |\n",
       "|--------+-------+--------|\n",
       "+--------+-------+--------+"
      ]
     },
     "execution_count": 3,
     "metadata": {},
     "output_type": "execute_result"
    }
   ],
   "source": [
    "from terminal_app.env import source, PROJECT_CONFIG\n",
    "\n",
    "source(\".terminal.env\")[\"ANY\"]\n",
    "PROJECT_CONFIG\n"
   ]
  }
 ],
 "metadata": {
  "kernelspec": {
   "display_name": ".venv",
   "language": "python",
   "name": "python3"
  },
  "language_info": {
   "codemirror_mode": {
    "name": "ipython",
    "version": 3
   },
   "file_extension": ".py",
   "mimetype": "text/x-python",
   "name": "python",
   "nbconvert_exporter": "python",
   "pygments_lexer": "ipython3",
   "version": "3.12.4"
  }
 },
 "nbformat": 4,
 "nbformat_minor": 2
}
