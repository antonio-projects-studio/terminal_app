{
 "cells": [
  {
   "cell_type": "code",
   "execution_count": 1,
   "metadata": {},
   "outputs": [
    {
     "name": "stdout",
     "output_type": "stream",
     "text": [
      "# Terminal App\n",
      "- OS: darwin\n",
      "- CONFIG: development\n",
      "- RUN_MODE: jupyter\n",
      "+------------------+-------+-------------------------------------------------------------------------+\n",
      "| name             | env   | file                                                                    |\n",
      "|------------------+-------+-------------------------------------------------------------------------|\n",
      "| BASE_DIR         |       | /Users/21903294/Projects/StartUp/terminal_app/tests                     |\n",
      "| WORK_DIR         |       | /Users/21903294/Projects/StartUp/terminal_app/tests/test_conf           |\n",
      "| CONFIGS_DIR      |       | /Users/21903294/Projects/StartUp/terminal_app/tests/configs             |\n",
      "| DEV_DIR          |       | /Users/21903294/Projects/StartUp/terminal_app/tests/configs/development |\n",
      "| PROD_DIR         |       | /Users/21903294/Projects/StartUp/terminal_app/tests/configs/production  |\n",
      "| TEST_DIR         |       | /Users/21903294/Projects/StartUp/terminal_app/tests/configs/test        |\n",
      "| CERTIFICATES_DIR |       | /Users/21903294/Projects/StartUp/terminal_app/tests/certificates        |\n",
      "| SSH_DIR          |       | /Users/21903294/Projects/StartUp/terminal_app/tests/certificates/ssh    |\n",
      "| DATA_DIR         |       | /Users/21903294/Projects/StartUp/terminal_app/tests/data                |\n",
      "| MEDIA_DIR        |       | /Users/21903294/Projects/StartUp/terminal_app/tests/data/media          |\n",
      "| DOCUMENT_DIR     |       | /Users/21903294/Projects/StartUp/terminal_app/tests/data/media/document |\n",
      "| VIDEO_DIR        |       | /Users/21903294/Projects/StartUp/terminal_app/tests/data/media/video    |\n",
      "| PHOTO_DIR        |       | /Users/21903294/Projects/StartUp/terminal_app/tests/data/media/photo    |\n",
      "| INIT_FOLDERS     |       | True                                                                    |\n",
      "+------------------+-------+-------------------------------------------------------------------------+\n",
      "# Terminal Ap\n",
      "+--------+-------+--------+\n",
      "| name   | env   |   file |\n",
      "|--------+-------+--------|\n",
      "| LOL    |       |      2 |\n",
      "+--------+-------+--------+\n",
      "# Terminal\n",
      "+--------+-------+--------+\n",
      "| name   | env   |   file |\n",
      "|--------+-------+--------|\n",
      "| ANY    |       |      1 |\n",
      "+--------+-------+--------+\n",
      "# Terminal Lol\n",
      "+--------+-------+--------+\n",
      "| name   | env   | file   |\n",
      "|--------+-------+--------|\n",
      "| ANY    |       |        |\n",
      "+--------+-------+--------+\n"
     ]
    },
    {
     "data": {
      "text/plain": [
       "'1'"
      ]
     },
     "execution_count": 1,
     "metadata": {},
     "output_type": "execute_result"
    }
   ],
   "source": [
    "from terminal_app.env import source\n",
    "\n",
    "source(\".terminal.env\")[\"ANY\"]\n",
    "source(\".terminal_lol.env\")[\"ANY\"]"
   ]
  }
 ],
 "metadata": {
  "kernelspec": {
   "display_name": ".venv",
   "language": "python",
   "name": "python3"
  },
  "language_info": {
   "codemirror_mode": {
    "name": "ipython",
    "version": 3
   },
   "file_extension": ".py",
   "mimetype": "text/x-python",
   "name": "python",
   "nbconvert_exporter": "python",
   "pygments_lexer": "ipython3",
   "version": "3.12.4"
  }
 },
 "nbformat": 4,
 "nbformat_minor": 2
}
